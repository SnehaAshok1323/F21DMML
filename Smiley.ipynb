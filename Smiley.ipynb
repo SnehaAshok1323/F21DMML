{
 "cells": [
  {
   "cell_type": "markdown",
   "metadata": {},
   "source": [
    "# LOAD THE DATASET\n",
    "I am loading both the noisy and the non noisy dataset."
   ]
  },
  {
   "cell_type": "code",
   "execution_count": 77,
   "metadata": {},
   "outputs": [
    {
     "name": "stdout",
     "output_type": "stream",
     "text": [
      "(204, 9, 9, 1) (204,)\n",
      "(204, 9, 9, 1) (204,)\n"
     ]
    }
   ],
   "source": [
    "import numpy as np\n",
    "import matplotlib.pyplot as plt\n",
    "\n",
    "# Load the data\n",
    "X = np.load(r'C:\\Users\\sneas\\Desktop\\DMML\\smiley_dataset\\smiley_dataset\\smiley_noisy_X.npy')\n",
    "Y = np.load(r'C:\\Users\\sneas\\Desktop\\DMML\\smiley_dataset\\smiley_dataset\\smiley_noisy_Y.npy')\n",
    "Xn = np.load(r'C:\\Users\\sneas\\Desktop\\DMML\\smiley_dataset\\smiley_dataset\\smiley_X.npy')\n",
    "Yn = np.load(r'C:\\Users\\sneas\\Desktop\\DMML\\smiley_dataset\\smiley_dataset\\smiley_Y.npy')\n",
    "\n",
    "print(X.shape, Y.shape)\n",
    "print(Xn.shape, Yn.shape)\n"
   ]
  },
  {
   "cell_type": "code",
   "execution_count": 78,
   "metadata": {},
   "outputs": [
    {
     "data": {
      "image/png": "[encoded data removed]",
      "text/plain": [
       "<Figure size 2000x200 with 10 Axes>"
      ]
     },
     "metadata": {},
     "output_type": "display_data"
    },
    {
     "data": {
      "image/png": "[encoded data removed]",
      "text/plain": [
       "<Figure size 2000x200 with 10 Axes>"
      ]
     },
     "metadata": {},
     "output_type": "display_data"
    }
   ],
   "source": [
    "import matplotlib.pyplot as plt\n",
    "\n",
    "# Define a function to visualize images\n",
    "def visualize_images(images, labels, num_samples=10):\n",
    "    fig, axes = plt.subplots(1, num_samples, figsize=(20, 2))\n",
    "    for i in range(num_samples):\n",
    "        axes[i].imshow(images[i].reshape(9, 9), cmap='gray')\n",
    "        axes[i].set_title(f'Label: {labels[i]}')\n",
    "        axes[i].axis('off')\n",
    "    plt.show()\n",
    "\n",
    "# Visualize the first 10 images in the dataset\n",
    "visualize_images(X, Y)\n",
    "visualize_images(Xn, Yn)\n",
    "\n"
   ]
  },
  {
   "cell_type": "markdown",
   "metadata": {},
   "source": [
    "From the above visualization of both the dataset it is clear that there is no difference in the overall structure of the dataset. The noisy dataset contain extra pixel intensity variations.\n",
    "I am not checking for missing values in the dataset as this is an image dataset with reference to Missing Data in Image Classification: A Survey: https://arxiv.org/abs/2003.05351:  image dataset will not have missing values."
   ]
  },
  {
   "cell_type": "code",
   "execution_count": 79,
   "metadata": {},
   "outputs": [
    {
     "name": "stdout",
     "output_type": "stream",
     "text": [
      "0.0 1.0 {0.0: 72, 1.0: 60, 2.0: 72}\n",
      "0.0 1.0 {0.0: 72, 1.0: 60, 2.0: 72}\n"
     ]
    }
   ],
   "source": [
    "# Check for unusual values in the image data\n",
    "min_val = X.min()\n",
    "max_val = X.max()\n",
    "min_valx = Xn.min()\n",
    "max_valx = Xn.max()\n",
    "\n",
    "# Check the distribution of classes in the labels\n",
    "unique, counts = np.unique(Y, return_counts=True)\n",
    "class_distribution = dict(zip(unique, counts))\n",
    "\n",
    "print(min_val, max_val, class_distribution)\n",
    "print(min_valx, max_valx, class_distribution)\n"
   ]
  },
  {
   "cell_type": "markdown",
   "metadata": {},
   "source": [
    "# CONVERSION OF 2D vector to 1D vector\n",
    " converting the 2D image data to 1D vectors can help to break the between neighboring pixels and make the Naive Bayes classifier more accurate. "
   ]
  },
  {
   "cell_type": "code",
   "execution_count": 80,
   "metadata": {},
   "outputs": [
    {
     "name": "stdout",
     "output_type": "stream",
     "text": [
      "(204, 81)\n",
      "(204, 81)\n"
     ]
    }
   ],
   "source": [
    "# Reshape the data to 2D - vectorize the images\n",
    "X_vectorized = X.reshape(X.shape[0], -1)\n",
    "Xn_vectorized = Xn.reshape(Xn.shape[0], -1)\n",
    "print(X_vectorized.shape)\n",
    "print(Xn_vectorized.shape)\n"
   ]
  },
  {
   "cell_type": "markdown",
   "metadata": {},
   "source": [
    "I am proceeding to split the noisy dataset into train and test set"
   ]
  },
  {
   "cell_type": "code",
   "execution_count": 124,
   "metadata": {},
   "outputs": [
    {
     "data": {
      "text/plain": [
       "((153, 81), (51, 81), (153,), (51,))"
      ]
     },
     "execution_count": 124,
     "metadata": {},
     "output_type": "execute_result"
    }
   ],
   "source": [
    "# Split the data into training and testing sets\n",
    "\n",
    "from sklearn.model_selection import train_test_split\n",
    "\n",
    "X_train, X_test, y_train, y_test = train_test_split(X_vectorized, Y, test_size=0.25, random_state=42)\n",
    "\n",
    "X_train.shape, X_test.shape, y_train.shape, y_test.shape\n"
   ]
  },
  {
   "cell_type": "code",
   "execution_count": 82,
   "metadata": {},
   "outputs": [
    {
     "name": "stdout",
     "output_type": "stream",
     "text": [
      "0.6829268292682927 [[10  5  0]\n",
      " [ 2  7  0]\n",
      " [ 0  6 11]]               precision    recall  f1-score   support\n",
      "\n",
      "         0.0       0.83      0.67      0.74        15\n",
      "         1.0       0.39      0.78      0.52         9\n",
      "         2.0       1.00      0.65      0.79        17\n",
      "\n",
      "    accuracy                           0.68        41\n",
      "   macro avg       0.74      0.70      0.68        41\n",
      "weighted avg       0.80      0.68      0.71        41\n",
      " 0.7784716985084632\n"
     ]
    }
   ],
   "source": [
    "import numpy as np\n",
    "from sklearn.naive_bayes import GaussianNB\n",
    "from sklearn.metrics import classification_report, confusion_matrix, accuracy_score, roc_auc_score\n",
    "from sklearn.preprocessing import label_binarize\n",
    "from sklearn import metrics\n",
    "\n",
    "# Create a Gaussian Naive Bayes classifier\n",
    "model = GaussianNB()\n",
    "\n",
    "model.fit(X_train, y_train)\n",
    "\n",
    "y_pred = model.predict(X_test)\n",
    "\n",
    "accuracy = accuracy_score(y_test, y_pred)\n",
    "\n",
    "confusion_mat = confusion_matrix(y_test, y_pred)\n",
    "\n",
    "class_report = classification_report(y_test, y_pred)\n",
    "\n",
    "# Compute ROC curve and ROC area for each class\n",
    "y_test_bin = label_binarize(y_test, classes=[0, 1, 2])\n",
    "y_pred_bin = label_binarize(y_pred, classes=[0, 1, 2])\n",
    "roc_auc = roc_auc_score(y_test_bin, y_pred_bin, average='macro', multi_class='ovo')\n",
    "\n",
    "print(accuracy, confusion_mat, class_report, roc_auc)\n"
   ]
  },
  {
   "cell_type": "markdown",
   "metadata": {},
   "source": [
    "From the above output we can see that the macro average is 0.74, which is slightly higher than the weighted average of 0.71 precision, recall, and f1-score are more evenly distributed across the classes for the macro average than for the weighted average."
   ]
  },
  {
   "cell_type": "code",
   "execution_count": 83,
   "metadata": {},
   "outputs": [
    {
     "name": "stdout",
     "output_type": "stream",
     "text": [
      "For 9 features:\n",
      "Accuracy:  0.926829268292683\n",
      "Precision:  0.9125\n",
      "Recall:  0.9237472766884531\n",
      "F1 Score:  0.9170653907496013\n",
      "\n",
      "For 18 features:\n",
      "Accuracy:  0.975609756097561\n",
      "Precision:  0.9791666666666666\n",
      "Recall:  0.9629629629629629\n",
      "F1 Score:  0.9696394686907022\n"
     ]
    }
   ],
   "source": [
    "from sklearn.decomposition import PCA\n",
    "\n",
    "# Create a PCA object\n",
    "pca_9 = PCA(n_components=9)\n",
    "pca_18 = PCA(n_components=18)\n",
    "\n",
    "# Fit the PCA object to the training data to transform it\n",
    "X_train_pca_9 = pca_9.fit_transform(X_train)\n",
    "X_test_pca_9 = pca_9.transform(X_test)\n",
    "\n",
    "X_train_pca_18 = pca_18.fit_transform(X_train)\n",
    "X_test_pca_18 = pca_18.transform(X_test)\n",
    "\n",
    "# Train and evaluate a Naive Bayes classifier for each transformed dataset\n",
    "gnb_9 = GaussianNB()\n",
    "gnb_9.fit(X_train_pca_9, y_train)\n",
    "Y_pred_9 = gnb_9.predict(X_test_pca_9)\n",
    "\n",
    "# Train and evaluate a Naive Bayes classifier for each transformed dataset\n",
    "gnb_18 = GaussianNB()\n",
    "gnb_18.fit(X_train_pca_18, y_train)\n",
    "Y_pred_18 = gnb_18.predict(X_test_pca_18)\n",
    "\n",
    "# Calculate metrics\n",
    "accuracy_9 = metrics.accuracy_score(y_test, Y_pred_9)\n",
    "precision_9 = metrics.precision_score(y_test, Y_pred_9, average='macro')\n",
    "recall_9 = metrics.recall_score(y_test, Y_pred_9, average='macro')\n",
    "f1_score_9 = metrics.f1_score(y_test, Y_pred_9, average='macro')\n",
    "\n",
    "accuracy_18 = metrics.accuracy_score(y_test, Y_pred_18)\n",
    "precision_18 = metrics.precision_score(y_test, Y_pred_18, average='macro')\n",
    "recall_18 = metrics.recall_score(y_test, Y_pred_18, average='macro')\n",
    "f1_score_18 = metrics.f1_score(y_test, Y_pred_18, average='macro')\n",
    "\n",
    "# Print the metrics\n",
    "print(\"For 9 features:\")\n",
    "print(\"Accuracy: \", accuracy_9)\n",
    "print(\"Precision: \", precision_9)\n",
    "print(\"Recall: \", recall_9)\n",
    "print(\"F1 Score: \", f1_score_9)\n",
    "\n",
    "print(\"\\nFor 18 features:\")\n",
    "print(\"Accuracy: \", accuracy_18)\n",
    "print(\"Precision: \", precision_18)\n",
    "print(\"Recall: \", recall_18)\n",
    "print(\"F1 Score: \", f1_score_18)\n"
   ]
  },
  {
   "cell_type": "markdown",
   "metadata": {},
   "source": [
    "# PART 1 CONCLUSION\n",
    "\n",
    "We can see that the Naive Bayes classifier performs reasonably well on the test data, especially considering that the images are quite noisy.\n",
    "\n",
    "1. ## Are classes represented equally? \n",
    "No we can see from the above results that the distrubution of the classes are not equual. Class 0.0 has 72 samples, Class 1.0 has 60 samples and Class 2.0 has 72 samples.\n",
    "\n",
    "2. ## Which features are more important/reliable for which class? Which are less reliable? \n",
    "Though I was not able to clearly identify which feature is more reliable or less reliable, From the results of the PCA analysis I can narrowdown that the original dataset has more redundent features. By reducing the features to 9 I was able to improve the accuracy of the model. The dataset with 18 features also has a great accuracy of 97% but this is clear that the model is overfitting and learning the noise in the dataset."
   ]
  },
  {
   "cell_type": "markdown",
   "metadata": {},
   "source": [
    "# PART 2 Clustering\n",
    "For the purpose of consistensy I am continuing with the vectorized images.\n",
    "\n",
    "#### To choose an appropriate value for K I am using the elbow method"
   ]
  },
  {
   "cell_type": "code",
   "execution_count": 128,
   "metadata": {},
   "outputs": [
    {
     "data": {
      "image/png": "[encoded data removed]",
      "text/plain": [
       "<Figure size 600x400 with 1 Axes>"
      ]
     },
     "metadata": {},
     "output_type": "display_data"
    }
   ],
   "source": [
    "from sklearn.cluster import KMeans\n",
    "\n",
    "# Calculate the sum of squared distances from each point to its cluster center for different k values\n",
    "sse = []\n",
    "k_values = range(1, 10)\n",
    "\n",
    "for k in k_values:\n",
    "    kmeans = KMeans(n_clusters=k, n_init=10, random_state=42)\n",
    "    kmeans.fit(X_vectorized)\n",
    "    sse.append(kmeans.inertia_)\n",
    "\n",
    "# Plot the elbow curve\n",
    "plt.figure(figsize=(6, 4))\n",
    "plt.plot(k_values, sse, 'bo-')\n",
    "plt.xlabel('Number of Clusters (k)')\n",
    "plt.ylabel('Sum of Squared Distances')\n",
    "plt.title('Elbow Method For Determining Optimal k')\n",
    "plt.grid(True)\n",
    "plt.show()\n"
   ]
  },
  {
   "cell_type": "markdown",
   "metadata": {},
   "source": [
    "From the above graph we can see that the curve is starting to flat out after the 3 clusters. In the begining I also identified that there are 3 unique classes in the dataset. "
   ]
  },
  {
   "cell_type": "code",
   "execution_count": 129,
   "metadata": {},
   "outputs": [
    {
     "data": {
      "text/plain": [
       "0.31288134543314644"
      ]
     },
     "execution_count": 129,
     "metadata": {},
     "output_type": "execute_result"
    }
   ],
   "source": [
    "from sklearn.metrics import adjusted_rand_score\n",
    "\n",
    "# Perform k-means clustering with 3 clusters\n",
    "kmeans = KMeans(n_clusters=3, n_init=10, random_state=42)\n",
    "kmeans.fit(X_vectorized)\n",
    "\n",
    "# Assign each image to a cluster\n",
    "cluster_assignments = kmeans.predict(X_vectorized)\n",
    "\n",
    "# Compute the adjusted Rand index\n",
    "ari = adjusted_rand_score(Y, cluster_assignments)\n",
    "\n",
    "ari\n"
   ]
  },
  {
   "cell_type": "markdown",
   "metadata": {},
   "source": [
    "The ARI value for the K-means suggest that the clustering model has moderate level of agreement with the actual labels. "
   ]
  },
  {
   "cell_type": "code",
   "execution_count": 113,
   "metadata": {},
   "outputs": [
    {
     "data": {
      "image/png": "[encoded data removed]",
      "text/plain": [
       "<Figure size 600x400 with 2 Axes>"
      ]
     },
     "metadata": {},
     "output_type": "display_data"
    }
   ],
   "source": [
    "from sklearn.decomposition import PCA\n",
    "\n",
    "# Perform PCA to reduce the dimensionality to 2 dimensions\n",
    "pca = PCA(n_components=2)\n",
    "X_pca = pca.fit_transform(X_vectorized)\n",
    "\n",
    "# Plot the first two principal components, colored by cluster assignment\n",
    "plt.figure(figsize=(6, 4))\n",
    "plt.scatter(X_pca[:, 0], X_pca[:, 1], c=cluster_assignments)\n",
    "plt.xlabel('First Principal Component')\n",
    "plt.ylabel('Second Principal Component')\n",
    "plt.title('K-Means Clustering (k=3) Visualized with PCA')\n",
    "plt.colorbar(label='Cluster Assignment')\n",
    "plt.grid(True)\n",
    "plt.show()\n"
   ]
  },
  {
   "cell_type": "markdown",
   "metadata": {},
   "source": [
    "From the above plot we can see that there are few overlaps in the clusters which possibly be due to reduction of the dimensions.\n",
    "However I can still observe 3 distinct clusters. This is helping to conclude that the K-means is able to find some structure in the data that aligns with the ARI score."
   ]
  },
  {
   "cell_type": "code",
   "execution_count": 87,
   "metadata": {},
   "outputs": [
    {
     "data": {
      "text/plain": [
       "0.1738089537945894"
      ]
     },
     "execution_count": 87,
     "metadata": {},
     "output_type": "execute_result"
    }
   ],
   "source": [
    "from sklearn.mixture import GaussianMixture\n",
    "\n",
    "# Perform GMM clustering with 3 components\n",
    "gmm = GaussianMixture(n_components=3, random_state=42)\n",
    "gmm.fit(X_vectorized)\n",
    "\n",
    "# Assign each image to a cluster based on the component with the highest probability\n",
    "gmm_cluster_assignments = gmm.predict(X_vectorized)\n",
    "\n",
    "# Compute the adjusted Rand index\n",
    "gmm_ari = adjusted_rand_score(Y, gmm_cluster_assignments)\n",
    "\n",
    "gmm_ari\n"
   ]
  },
  {
   "cell_type": "code",
   "execution_count": 114,
   "metadata": {},
   "outputs": [
    {
     "data": {
      "image/png": "[encoded data removed]",
      "text/plain": [
       "<Figure size 600x400 with 2 Axes>"
      ]
     },
     "metadata": {},
     "output_type": "display_data"
    }
   ],
   "source": [
    "# Plot the first two principal components, colored by GMM cluster assignment\n",
    "plt.figure(figsize=(6, 4))\n",
    "plt.scatter(X_pca[:, 0], X_pca[:, 1], c=gmm_cluster_assignments)\n",
    "plt.xlabel('First Principal Component')\n",
    "plt.ylabel('Second Principal Component')\n",
    "plt.title('GMM Clustering (3 components) Visualized with PCA')\n",
    "plt.colorbar(label='Cluster Assignment')\n",
    "plt.grid(True)\n",
    "plt.show()\n"
   ]
  },
  {
   "cell_type": "markdown",
   "metadata": {},
   "source": [
    "#### K-Means Clustering\n",
    "ARI: Approximately 0.31\n",
    "The images have some inherent grouping that the k-means algorithm was able to capture.\n",
    "\n",
    "#### Gaussian Mixture Models (GMM) Clustering\n",
    "ARI : Approximately 0.17\n",
    "The clustering found some structure in the data however, not as much as K-mean as indicated in the ARI. Gausian distribution assumed by GMM does not match the actual distribution of the data.\n",
    "\n"
   ]
  },
  {
   "cell_type": "markdown",
   "metadata": {},
   "source": [
    "# Part 3. Supervised Learning: Generalisation & Overfitting; Decision trees."
   ]
  },
  {
   "cell_type": "markdown",
   "metadata": {},
   "source": [
    "I am training a Decision Tree classifier on my training data"
   ]
  },
  {
   "cell_type": "code",
   "execution_count": 115,
   "metadata": {},
   "outputs": [
    {
     "name": "stdout",
     "output_type": "stream",
     "text": [
      "1.0 [[15  0  0]\n",
      " [ 0  9  0]\n",
      " [ 0  0 17]]               precision    recall  f1-score   support\n",
      "\n",
      "         0.0       1.00      1.00      1.00        15\n",
      "         1.0       1.00      1.00      1.00         9\n",
      "         2.0       1.00      1.00      1.00        17\n",
      "\n",
      "    accuracy                           1.00        41\n",
      "   macro avg       1.00      1.00      1.00        41\n",
      "weighted avg       1.00      1.00      1.00        41\n",
      "\n"
     ]
    }
   ],
   "source": [
    "from sklearn.tree import DecisionTreeClassifier\n",
    "\n",
    "\n",
    "# Initialize the Decision Tree classifier\n",
    "tree_model = DecisionTreeClassifier(random_state=42)\n",
    "\n",
    "# Train the model\n",
    "tree_model.fit(X_train, y_train)\n",
    "\n",
    "# Make predictions on the test data\n",
    "y_pred_tree = tree_model.predict(X_test)\n",
    "\n",
    "# Compute the accuracy of the model\n",
    "accuracy_tree = accuracy_score(y_test, y_pred_tree)\n",
    "\n",
    "# Compute the confusion matrix\n",
    "confusion_mat_tree = confusion_matrix(y_test, y_pred_tree)\n",
    "\n",
    "# Compute precision, recall, f-score via the classification report\n",
    "class_report_tree = classification_report(y_test, y_pred_tree)\n",
    "\n",
    "print(accuracy_tree, confusion_mat_tree, class_report_tree)\n"
   ]
  },
  {
   "cell_type": "markdown",
   "metadata": {},
   "source": [
    "The Decision Tree classifier achieved perfect accuracy (1.0) on the test data making it a very effective classifier on the dataset. However inorder to get more accurate estimation of thee model's performance I am going to perform a 10-fold cross validation on the training data and calculate the accuracy."
   ]
  },
  {
   "cell_type": "code",
   "execution_count": 90,
   "metadata": {},
   "outputs": [
    {
     "data": {
      "text/plain": [
       "0.975"
      ]
     },
     "execution_count": 90,
     "metadata": {},
     "output_type": "execute_result"
    }
   ],
   "source": [
    "from sklearn.model_selection import cross_val_score\n",
    "\n",
    "# Perform 10-fold cross-validation on the training data\n",
    "cv_scores = cross_val_score(tree_model, X_train, y_train, cv=10)\n",
    "\n",
    "# Compute the average accuracy across the 10 folds\n",
    "cv_accuracy = np.mean(cv_scores)\n",
    "\n",
    "cv_accuracy\n"
   ]
  },
  {
   "cell_type": "markdown",
   "metadata": {},
   "source": [
    "I am now looking to check the influence of the decision tree parameters on the classifiers."
   ]
  },
  {
   "cell_type": "code",
   "execution_count": 126,
   "metadata": {},
   "outputs": [
    {
     "data": {
      "text/plain": [
       "({'max_depth': None,\n",
       "  'max_features': None,\n",
       "  'min_samples_leaf': 1,\n",
       "  'min_samples_split': 5},\n",
       " 0.9666666666666668)"
      ]
     },
     "execution_count": 126,
     "metadata": {},
     "output_type": "execute_result"
    }
   ],
   "source": [
    "from sklearn.model_selection import GridSearchCV\n",
    "\n",
    "# Define the parameter grid\n",
    "param_grid = {\n",
    "    'max_depth': [None, 5, 10, 15, 20],\n",
    "    'min_samples_split': [2, 5, 10],\n",
    "    'min_samples_leaf': [1, 2, 4],\n",
    "    'max_features': [ 'sqrt', 'log2', None]\n",
    "}\n",
    "\n",
    "# Initialize a GridSearchCV object that will perform a search over the parameter grid using 10-fold CV\n",
    "grid_search = GridSearchCV(DecisionTreeClassifier(random_state=42), param_grid, cv=10)\n",
    "\n",
    "# Perform the grid search\n",
    "grid_search.fit(X_train, y_train)\n",
    "\n",
    "# Get the best parameters and the corresponding mean test score\n",
    "best_params = grid_search.best_params_\n",
    "best_score = grid_search.best_score_\n",
    "\n",
    "best_params, best_score\n"
   ]
  },
  {
   "cell_type": "markdown",
   "metadata": {},
   "source": [
    "The GridSearch has identified the above parameters for this classifier and the accuracy of the 10 fold cross validation is same as 97%."
   ]
  },
  {
   "cell_type": "code",
   "execution_count": 127,
   "metadata": {},
   "outputs": [
    {
     "name": "stdout",
     "output_type": "stream",
     "text": [
      "1.0 [[17  0  0]\n",
      " [ 0 15  0]\n",
      " [ 0  0 19]]               precision    recall  f1-score   support\n",
      "\n",
      "         0.0       1.00      1.00      1.00        17\n",
      "         1.0       1.00      1.00      1.00        15\n",
      "         2.0       1.00      1.00      1.00        19\n",
      "\n",
      "    accuracy                           1.00        51\n",
      "   macro avg       1.00      1.00      1.00        51\n",
      "weighted avg       1.00      1.00      1.00        51\n",
      "\n"
     ]
    }
   ],
   "source": [
    "# Initialize the Decision Tree classifier with the best parameters\n",
    "best_tree_model = DecisionTreeClassifier(**best_params, random_state=42)\n",
    "\n",
    "# Train the model\n",
    "best_tree_model.fit(X_train, y_train)\n",
    "\n",
    "# Make predictions on the test data\n",
    "y_pred_best_tree = best_tree_model.predict(X_test)\n",
    "\n",
    "# Compute the accuracy of the model\n",
    "accuracy_best_tree = accuracy_score(y_test, y_pred_best_tree)\n",
    "\n",
    "# Compute the confusion matrix\n",
    "confusion_mat_best_tree = confusion_matrix(y_test, y_pred_best_tree)\n",
    "\n",
    "# Compute precision, recall, f-score via the classification report\n",
    "class_report_best_tree = classification_report(y_test, y_pred_best_tree)\n",
    "\n",
    "print(accuracy_best_tree, confusion_mat_best_tree, class_report_best_tree)\n"
   ]
  },
  {
   "cell_type": "markdown",
   "metadata": {},
   "source": [
    "The results of the Decision Tree classifier with the best parameters is a very accurate model. However, it is possible that the model would not perform as well on a larger dataset"
   ]
  },
  {
   "cell_type": "markdown",
   "metadata": {},
   "source": [
    "# Exploring Overfitting\n",
    "\n",
    "I am now going to create new training and testing sets, first by moving 30% of the instances from the original training set into the testing set, and then by moving 60% of the instances."
   ]
  },
  {
   "cell_type": "code",
   "execution_count": 130,
   "metadata": {},
   "outputs": [
    {
     "name": "stdout",
     "output_type": "stream",
     "text": [
      "0.9901960784313726 [[33  0  0]\n",
      " [ 1 31  0]\n",
      " [ 0  0 37]]               precision    recall  f1-score   support\n",
      "\n",
      "         0.0       0.97      1.00      0.99        33\n",
      "         1.0       1.00      0.97      0.98        32\n",
      "         2.0       1.00      1.00      1.00        37\n",
      "\n",
      "    accuracy                           0.99       102\n",
      "   macro avg       0.99      0.99      0.99       102\n",
      "weighted avg       0.99      0.99      0.99       102\n",
      "\n"
     ]
    }
   ],
   "source": [
    "# Create new training and testing sets, moving 30% of the instances from the original training set into the testing set\n",
    "X_train_30, X_test_30, y_train_30, y_test_30 = train_test_split(X_vectorized, Y, test_size=0.5, random_state=42)\n",
    "\n",
    "# Train the model\n",
    "best_tree_model.fit(X_train_30, y_train_30)\n",
    "\n",
    "# Make predictions on the test data\n",
    "y_pred_30 = best_tree_model.predict(X_test_30)\n",
    "\n",
    "# Compute the accuracy of the model\n",
    "accuracy_30 = accuracy_score(y_test_30, y_pred_30)\n",
    "\n",
    "# Compute the confusion matrix\n",
    "confusion_mat_30 = confusion_matrix(y_test_30, y_pred_30)\n",
    "\n",
    "# Compute precision, recall, f-score via the classification report\n",
    "class_report_30 = classification_report(y_test_30, y_pred_30)\n",
    "\n",
    "print(accuracy_30, confusion_mat_30, class_report_30)\n"
   ]
  },
  {
   "cell_type": "markdown",
   "metadata": {},
   "source": [
    "The above results suggest that the decision tree continues to perform well with optimized parameters and even with fewer training examples. The slightest difference in the accuracy could be due to overfitting. "
   ]
  },
  {
   "cell_type": "code",
   "execution_count": 131,
   "metadata": {},
   "outputs": [
    {
     "name": "stdout",
     "output_type": "stream",
     "text": [
      "0.8321678321678322 [[34 11  1]\n",
      " [11 34  0]\n",
      " [ 0  1 51]]               precision    recall  f1-score   support\n",
      "\n",
      "         0.0       0.76      0.74      0.75        46\n",
      "         1.0       0.74      0.76      0.75        45\n",
      "         2.0       0.98      0.98      0.98        52\n",
      "\n",
      "    accuracy                           0.83       143\n",
      "   macro avg       0.83      0.83      0.83       143\n",
      "weighted avg       0.83      0.83      0.83       143\n",
      "\n"
     ]
    }
   ],
   "source": [
    "# Create new training and testing sets, moving 60% of the instances from the original training set into the testing set\n",
    "X_train_60, X_test_60, y_train_60, y_test_60 = train_test_split(X_vectorized, Y, test_size=0.7, random_state=42)\n",
    "\n",
    "# Train the model\n",
    "best_tree_model.fit(X_train_60, y_train_60)\n",
    "\n",
    "# Make predictions on the test data\n",
    "y_pred_60 = best_tree_model.predict(X_test_60)\n",
    "\n",
    "# Compute the accuracy of the model\n",
    "accuracy_60 = accuracy_score(y_test_60, y_pred_60)\n",
    "\n",
    "# Compute the confusion matrix\n",
    "confusion_mat_60 = confusion_matrix(y_test_60, y_pred_60)\n",
    "\n",
    "# Compute precision, recall, f-score via the classification report\n",
    "class_report_60 = classification_report(y_test_60, y_pred_60)\n",
    "\n",
    "print(accuracy_60, confusion_mat_60, class_report_60)\n"
   ]
  },
  {
   "cell_type": "markdown",
   "metadata": {},
   "source": [
    "There is a significant decrease in the accuracy of the model. This suggest that decrease could be due to overfitting as the model may learn patters that are specific to smaller dataset. This is also helping to understand the significance of a larger training dataset."
   ]
  },
  {
   "cell_type": "code",
   "execution_count": 132,
   "metadata": {},
   "outputs": [
    {
     "name": "stdout",
     "output_type": "stream",
     "text": [
      "1.0 [[17  0  0]\n",
      " [ 0 15  0]\n",
      " [ 0  0 19]]               precision    recall  f1-score   support\n",
      "\n",
      "         0.0       1.00      1.00      1.00        17\n",
      "         1.0       1.00      1.00      1.00        15\n",
      "         2.0       1.00      1.00      1.00        19\n",
      "\n",
      "    accuracy                           1.00        51\n",
      "   macro avg       1.00      1.00      1.00        51\n",
      "weighted avg       1.00      1.00      1.00        51\n",
      "\n"
     ]
    }
   ],
   "source": [
    "from sklearn.ensemble import RandomForestClassifier\n",
    "\n",
    "# Initialize the Random Forest classifier\n",
    "rf_model = RandomForestClassifier(random_state=42)\n",
    "\n",
    "# Train the model\n",
    "rf_model.fit(X_train, y_train)\n",
    "\n",
    "# Make predictions on the test data\n",
    "y_pred_rf = rf_model.predict(X_test)\n",
    "\n",
    "# Compute the accuracy of the model\n",
    "accuracy_rf = accuracy_score(y_test, y_pred_rf)\n",
    "\n",
    "# Compute the confusion matrix\n",
    "confusion_mat_rf = confusion_matrix(y_test, y_pred_rf)\n",
    "\n",
    "# Compute precision, recall, f-score via the classification report\n",
    "class_report_rf = classification_report(y_test, y_pred_rf)\n",
    "\n",
    "print(accuracy_rf, confusion_mat_rf, class_report_rf)\n"
   ]
  },
  {
   "cell_type": "markdown",
   "metadata": {},
   "source": [
    "The Random forest is also effective as the decision tree classifier."
   ]
  },
  {
   "cell_type": "code",
   "execution_count": 96,
   "metadata": {},
   "outputs": [
    {
     "data": {
      "text/plain": [
       "0.99375"
      ]
     },
     "execution_count": 96,
     "metadata": {},
     "output_type": "execute_result"
    }
   ],
   "source": [
    "# Perform 10-fold cross-validation on the training data\n",
    "cv_scores_rf = cross_val_score(rf_model, X_train, y_train, cv=10)\n",
    "\n",
    "# Compute the average accuracy across the 10 folds\n",
    "cv_accuracy_rf = np.mean(cv_scores_rf)\n",
    "\n",
    "cv_accuracy_rf\n"
   ]
  },
  {
   "cell_type": "markdown",
   "metadata": {},
   "source": [
    "# Conclsion\n",
    "\n",
    "On this dataset, both the Decision Tree and Random Forest classifiers performed well, achieving flawless accuracy on the test data and extremely high accuracy under cross-validation on the training data. The Random Forest classifier, which is an ensemble of decision trees, did not outperform the single Decision Tree classifier considerably, suggesting that a single decision tree is adequate to effectively predict the patterns in this dataset.\n",
    "\n",
    "### Does the decision tree generalize well to new data? How do you tell?\n",
    "The decision tree classifier performs a good job of generalising to new data. This is due to the fact that the classifier was trained using 10-fold cross-validation, which means it was trained and assessed on various sections of the data. This ensures that the classifier does not overfit the training data. Also, the decision tree classifier's accuracy on the test data is 1.0, indicating that the classifier correctly categorised all of the test data points. This indicates that the classifier can generalise successfully to fresh data.\n"
   ]
  },
  {
   "cell_type": "markdown",
   "metadata": {},
   "source": [
    "# Part 4. Neural Networks and Convolutional Neural Networks. "
   ]
  },
  {
   "cell_type": "code",
   "execution_count": 133,
   "metadata": {},
   "outputs": [
    {
     "name": "stdout",
     "output_type": "stream",
     "text": [
      "0.9019607843137255 [[12  5  0]\n",
      " [ 0 15  0]\n",
      " [ 0  0 19]]               precision    recall  f1-score   support\n",
      "\n",
      "         0.0       1.00      0.71      0.83        17\n",
      "         1.0       0.75      1.00      0.86        15\n",
      "         2.0       1.00      1.00      1.00        19\n",
      "\n",
      "    accuracy                           0.90        51\n",
      "   macro avg       0.92      0.90      0.89        51\n",
      "weighted avg       0.93      0.90      0.90        51\n",
      "\n"
     ]
    }
   ],
   "source": [
    "from sklearn.linear_model import SGDClassifier\n",
    "\n",
    "# Initialize the Linear classifier\n",
    "linear_model = SGDClassifier(random_state=42)\n",
    "\n",
    "# Train the model\n",
    "linear_model.fit(X_train, y_train)\n",
    "\n",
    "# Make predictions on the test data\n",
    "y_pred_linear = linear_model.predict(X_test)\n",
    "\n",
    "# Compute the accuracy of the model\n",
    "accuracy_linear = accuracy_score(y_test, y_pred_linear)\n",
    "\n",
    "# Compute the confusion matrix\n",
    "confusion_mat_linear = confusion_matrix(y_test, y_pred_linear)\n",
    "\n",
    "# Compute precision, recall, f-score via the classification report\n",
    "class_report_linear = classification_report(y_test, y_pred_linear)\n",
    "\n",
    "print(accuracy_linear, confusion_mat_linear, class_report_linear)\n"
   ]
  },
  {
   "cell_type": "code",
   "execution_count": 98,
   "metadata": {},
   "outputs": [
    {
     "data": {
      "text/plain": [
       "0.9444852941176471"
      ]
     },
     "execution_count": 98,
     "metadata": {},
     "output_type": "execute_result"
    }
   ],
   "source": [
    "# Perform 10-fold cross-validation on the training data\n",
    "cv_scores_linear = cross_val_score(linear_model, X_train, y_train, cv=10)\n",
    "\n",
    "# Compute the average accuracy across the 10 folds\n",
    "cv_accuracy_linear = np.mean(cv_scores_linear)\n",
    "\n",
    "cv_accuracy_linear\n"
   ]
  },
  {
   "cell_type": "markdown",
   "metadata": {},
   "source": [
    "## How well does the linear classifier generalize to new data? What hypothesis can you make about this data set being linearly separable or not? \n",
    "\n",
    "As shown by its high accuracy on the test data, the linear classifier generalises effectively to new data. The linear classifier's average accuracy on test data is 0.93, which is somewhat lower than its accuracy on training data but still quite good. The linear classifier's excellent accuracy on the test data shows that the data is linearly separable. This suggests that a straight line can divide the data into two classes."
   ]
  },
  {
   "cell_type": "code",
   "execution_count": 135,
   "metadata": {},
   "outputs": [
    {
     "name": "stdout",
     "output_type": "stream",
     "text": [
      "1.0 [[17  0  0]\n",
      " [ 0 15  0]\n",
      " [ 0  0 19]]               precision    recall  f1-score   support\n",
      "\n",
      "         0.0       1.00      1.00      1.00        17\n",
      "         1.0       1.00      1.00      1.00        15\n",
      "         2.0       1.00      1.00      1.00        19\n",
      "\n",
      "    accuracy                           1.00        51\n",
      "   macro avg       1.00      1.00      1.00        51\n",
      "weighted avg       1.00      1.00      1.00        51\n",
      "\n"
     ]
    }
   ],
   "source": [
    "from sklearn.neural_network import MLPClassifier\n",
    "\n",
    "# Initialize the MLP classifier\n",
    "mlp_model = MLPClassifier(random_state=42, max_iter=1000, learning_rate='constant', learning_rate_init=0.001)\n",
    "\n",
    "# Train the model\n",
    "mlp_model.fit(X_train, y_train)\n",
    "\n",
    "# Make predictions on the test data\n",
    "y_pred_mlp = mlp_model.predict(X_test)\n",
    "\n",
    "# Compute the accuracy of the model\n",
    "accuracy_mlp = accuracy_score(y_test, y_pred_mlp)\n",
    "\n",
    "# Compute the confusion matrix\n",
    "confusion_mat_mlp = confusion_matrix(y_test, y_pred_mlp)\n",
    "\n",
    "# Compute precision, recall, f-score via the classification report\n",
    "class_report_mlp = classification_report(y_test, y_pred_mlp)\n",
    "\n",
    "print(accuracy_mlp, confusion_mat_mlp, class_report_mlp)\n"
   ]
  },
  {
   "cell_type": "markdown",
   "metadata": {},
   "source": [
    "The above results are effective as the Random forest and decision tree classifiers. "
   ]
  },
  {
   "cell_type": "code",
   "execution_count": 136,
   "metadata": {},
   "outputs": [
    {
     "data": {
      "text/plain": [
       "0.9933333333333334"
      ]
     },
     "execution_count": 136,
     "metadata": {},
     "output_type": "execute_result"
    }
   ],
   "source": [
    "# Perform 10-fold cross-validation on the training data\n",
    "cv_scores_mlp = cross_val_score(mlp_model, X_train, y_train, cv=10)\n",
    "\n",
    "# Compute the average accuracy across the 10 folds\n",
    "cv_accuracy_mlp = np.mean(cv_scores_mlp)\n",
    "\n",
    "cv_accuracy_mlp\n"
   ]
  },
  {
   "cell_type": "markdown",
   "metadata": {},
   "source": [
    "# Exploring various Neural Network parameters"
   ]
  },
  {
   "cell_type": "code",
   "execution_count": 139,
   "metadata": {},
   "outputs": [
    {
     "name": "stderr",
     "output_type": "stream",
     "text": [
      "C:\\Users\\sneas\\AppData\\Roaming\\Python\\Python311\\site-packages\\sklearn\\neural_network\\_multilayer_perceptron.py:691: ConvergenceWarning: Stochastic Optimizer: Maximum iterations (200) reached and the optimization hasn't converged yet.\n",
      "  warnings.warn(\n",
      "C:\\Users\\sneas\\AppData\\Roaming\\Python\\Python311\\site-packages\\sklearn\\neural_network\\_multilayer_perceptron.py:691: ConvergenceWarning: Stochastic Optimizer: Maximum iterations (200) reached and the optimization hasn't converged yet.\n",
      "  warnings.warn(\n",
      "C:\\Users\\sneas\\AppData\\Roaming\\Python\\Python311\\site-packages\\sklearn\\neural_network\\_multilayer_perceptron.py:691: ConvergenceWarning: Stochastic Optimizer: Maximum iterations (200) reached and the optimization hasn't converged yet.\n",
      "  warnings.warn(\n",
      "C:\\Users\\sneas\\AppData\\Roaming\\Python\\Python311\\site-packages\\sklearn\\neural_network\\_multilayer_perceptron.py:691: ConvergenceWarning: Stochastic Optimizer: Maximum iterations (200) reached and the optimization hasn't converged yet.\n",
      "  warnings.warn(\n"
     ]
    },
    {
     "data": {
      "text/plain": [
       "[('identity', 0.9411764705882353),\n",
       " ('logistic', 0.9019607843137255),\n",
       " ('tanh', 0.9607843137254902),\n",
       " ('relu', 1.0)]"
      ]
     },
     "execution_count": 139,
     "metadata": {},
     "output_type": "execute_result"
    }
   ],
   "source": [
    "# List of activation functions to try\n",
    "activation_functions = [\"identity\", \"logistic\", \"tanh\", \"relu\"]\n",
    "\n",
    "# Initialize a list to store the results\n",
    "results = []\n",
    "\n",
    "# Loop over the activation functions\n",
    "for activation in activation_functions:\n",
    "    # Initialize the MLP classifier with the current activation function\n",
    "    mlp_model = MLPClassifier(activation=activation, random_state=42)\n",
    "\n",
    "    # Train the model\n",
    "    mlp_model.fit(X_train, y_train)\n",
    "\n",
    "    # Make predictions on the test data\n",
    "    y_pred_mlp = mlp_model.predict(X_test)\n",
    "\n",
    "    # Compute the accuracy of the model\n",
    "    accuracy_mlp = accuracy_score(y_test, y_pred_mlp)\n",
    "\n",
    "    # Append the result to the results list\n",
    "    results.append((activation, accuracy_mlp))\n",
    "\n",
    "results\n"
   ]
  },
  {
   "cell_type": "markdown",
   "metadata": {},
   "source": [
    "The above results suggest that the ReLU activation function is most effective for this dataset, potentially due to its ability to model non-linear relationships and mitigate the vanishing gradient problem in neural networks."
   ]
  },
  {
   "cell_type": "code",
   "execution_count": 102,
   "metadata": {},
   "outputs": [
    {
     "name": "stderr",
     "output_type": "stream",
     "text": [
      "C:\\Users\\sneas\\AppData\\Roaming\\Python\\Python311\\site-packages\\sklearn\\neural_network\\_multilayer_perceptron.py:691: ConvergenceWarning: Stochastic Optimizer: Maximum iterations (200) reached and the optimization hasn't converged yet.\n",
      "  warnings.warn(\n",
      "C:\\Users\\sneas\\AppData\\Roaming\\Python\\Python311\\site-packages\\sklearn\\neural_network\\_multilayer_perceptron.py:691: ConvergenceWarning: Stochastic Optimizer: Maximum iterations (200) reached and the optimization hasn't converged yet.\n",
      "  warnings.warn(\n"
     ]
    },
    {
     "data": {
      "text/plain": [
       "[('lbfgs', 1.0), ('sgd', 0.7560975609756098), ('adam', 1.0)]"
      ]
     },
     "execution_count": 102,
     "metadata": {},
     "output_type": "execute_result"
    }
   ],
   "source": [
    "# List of solvers to try\n",
    "solvers = [\"lbfgs\", \"sgd\", \"adam\"]\n",
    "\n",
    "# Initialize a list to store the results\n",
    "results = []\n",
    "\n",
    "# Loop over the solvers\n",
    "for solver in solvers:\n",
    "    # Initialize the MLP classifier with the current solver\n",
    "    mlp_model = MLPClassifier(solver=solver, random_state=42)\n",
    "\n",
    "    # Train the model\n",
    "    mlp_model.fit(X_train, y_train)\n",
    "\n",
    "    # Make predictions on the test data\n",
    "    y_pred_mlp = mlp_model.predict(X_test)\n",
    "\n",
    "    # Compute the accuracy of the model\n",
    "    accuracy_mlp = accuracy_score(y_test, y_pred_mlp)\n",
    "\n",
    "    # Append the result to the results list\n",
    "    results.append((solver, accuracy_mlp))\n",
    "\n",
    "results\n"
   ]
  },
  {
   "cell_type": "markdown",
   "metadata": {},
   "source": [
    "The above results suggest that for this dataset, the LBFGS and Adam solvers are more effective than SGD."
   ]
  },
  {
   "cell_type": "code",
   "execution_count": 103,
   "metadata": {},
   "outputs": [
    {
     "name": "stderr",
     "output_type": "stream",
     "text": [
      "C:\\Users\\sneas\\AppData\\Roaming\\Python\\Python311\\site-packages\\sklearn\\neural_network\\_multilayer_perceptron.py:691: ConvergenceWarning: Stochastic Optimizer: Maximum iterations (200) reached and the optimization hasn't converged yet.\n",
      "  warnings.warn(\n",
      "C:\\Users\\sneas\\AppData\\Roaming\\Python\\Python311\\site-packages\\sklearn\\neural_network\\_multilayer_perceptron.py:691: ConvergenceWarning: Stochastic Optimizer: Maximum iterations (200) reached and the optimization hasn't converged yet.\n",
      "  warnings.warn(\n",
      "C:\\Users\\sneas\\AppData\\Roaming\\Python\\Python311\\site-packages\\sklearn\\neural_network\\_multilayer_perceptron.py:691: ConvergenceWarning: Stochastic Optimizer: Maximum iterations (200) reached and the optimization hasn't converged yet.\n",
      "  warnings.warn(\n"
     ]
    },
    {
     "data": {
      "text/plain": [
       "[('constant', 1.0), ('invscaling', 1.0), ('adaptive', 1.0)]"
      ]
     },
     "execution_count": 103,
     "metadata": {},
     "output_type": "execute_result"
    }
   ],
   "source": [
    "# List of learning rate schedules to try\n",
    "learning_rate_schedules = [\"constant\", \"invscaling\", \"adaptive\"]\n",
    "\n",
    "# Initialize a list to store the results\n",
    "results = []\n",
    "\n",
    "# Loop over the learning rate schedules\n",
    "for lr in learning_rate_schedules:\n",
    "    # Initialize the MLP classifier with the current learning rate schedule\n",
    "    mlp_model = MLPClassifier(learning_rate=lr, random_state=42)\n",
    "\n",
    "    # Train the model\n",
    "    mlp_model.fit(X_train, y_train)\n",
    "\n",
    "    # Make predictions on the test data\n",
    "    y_pred_mlp = mlp_model.predict(X_test)\n",
    "\n",
    "    # Compute the accuracy of the model\n",
    "    accuracy_mlp = accuracy_score(y_test, y_pred_mlp)\n",
    "\n",
    "    # Append the result to the results list\n",
    "    results.append((lr, accuracy_mlp))\n",
    "\n",
    "results\n"
   ]
  },
  {
   "cell_type": "markdown",
   "metadata": {},
   "source": [
    "On the test data, all three learning rate schedules attained 100% accuracy. This implies that, for this dataset, the learning rate schedule does not have a substantial impact on the MLP classifier's performance."
   ]
  },
  {
   "cell_type": "code",
   "execution_count": 104,
   "metadata": {},
   "outputs": [
    {
     "name": "stderr",
     "output_type": "stream",
     "text": [
      "C:\\Users\\sneas\\AppData\\Roaming\\Python\\Python311\\site-packages\\sklearn\\neural_network\\_multilayer_perceptron.py:691: ConvergenceWarning: Stochastic Optimizer: Maximum iterations (200) reached and the optimization hasn't converged yet.\n",
      "  warnings.warn(\n",
      "C:\\Users\\sneas\\AppData\\Roaming\\Python\\Python311\\site-packages\\sklearn\\neural_network\\_multilayer_perceptron.py:691: ConvergenceWarning: Stochastic Optimizer: Maximum iterations (200) reached and the optimization hasn't converged yet.\n",
      "  warnings.warn(\n",
      "C:\\Users\\sneas\\AppData\\Roaming\\Python\\Python311\\site-packages\\sklearn\\neural_network\\_multilayer_perceptron.py:691: ConvergenceWarning: Stochastic Optimizer: Maximum iterations (200) reached and the optimization hasn't converged yet.\n",
      "  warnings.warn(\n",
      "C:\\Users\\sneas\\AppData\\Roaming\\Python\\Python311\\site-packages\\sklearn\\neural_network\\_multilayer_perceptron.py:691: ConvergenceWarning: Stochastic Optimizer: Maximum iterations (200) reached and the optimization hasn't converged yet.\n",
      "  warnings.warn(\n"
     ]
    },
    {
     "data": {
      "text/plain": [
       "[(10, 0.8536585365853658), (50, 1.0), (100, 1.0), (200, 1.0)]"
      ]
     },
     "execution_count": 104,
     "metadata": {},
     "output_type": "execute_result"
    }
   ],
   "source": [
    "# List of hidden layer sizes to try\n",
    "hidden_layer_sizes = [10, 50, 100, 200]\n",
    "\n",
    "# Initialize a list to store the results\n",
    "results = []\n",
    "\n",
    "# Loop over the hidden layer sizes\n",
    "for size in hidden_layer_sizes:\n",
    "    # Initialize the MLP classifier with the current hidden layer size\n",
    "    mlp_model = MLPClassifier(hidden_layer_sizes=(size,), random_state=42)\n",
    "\n",
    "    # Train the model\n",
    "    mlp_model.fit(X_train, y_train)\n",
    "\n",
    "    # Make predictions on the test data\n",
    "    y_pred_mlp = mlp_model.predict(X_test)\n",
    "\n",
    "    # Compute the accuracy of the model\n",
    "    accuracy_mlp = accuracy_score(y_test, y_pred_mlp)\n",
    "\n",
    "    # Append the result to the results list\n",
    "    results.append((size, accuracy_mlp))\n",
    "\n",
    "results\n"
   ]
  },
  {
   "cell_type": "markdown",
   "metadata": {},
   "source": [
    "The results suggest that for this dataset, increasing the number of hidden neurons beyond 50 does not significantly improve the performance of the MLP classifier."
   ]
  },
  {
   "cell_type": "markdown",
   "metadata": {},
   "source": [
    "#### Based on all of these experiments, what conclusions can you make about the data set complexity (linear separability), and the capacity of deep neural networks to generalize to new data? Can you make any conclusions about the effect of activation functions?\n",
    "\n",
    "Deep neural networks generalise effectively to new data, as illustrated by the decision tree and random forest classifiers' excellent accuracy on the test data.\n",
    "The activation function used can have an effect on the performance of a deep neural network."
   ]
  },
  {
   "cell_type": "markdown",
   "metadata": {},
   "source": [
    "# CONCLUSION\n",
    "Based on these results, we may infer that the data set has a high ability for deep neural networks (such as the Multilayer Perceptron) to generalise to new data. While a linear classifier performed quite well, the decision tree, random forest, and MLP classifiers all achieved 100% accuracy on the test data. This implies that these approaches are more appropriate for this dataset than a linear classifier.\n"
   ]
  }
 ],
 "metadata": {
  "kernelspec": {
   "display_name": "Python 3",
   "language": "python",
   "name": "python3"
  },
  "language_info": {
   "codemirror_mode": {
    "name": "ipython",
    "version": 3
   },
   "file_extension": ".py",
   "mimetype": "text/x-python",
   "name": "python",
   "nbconvert_exporter": "python",
   "pygments_lexer": "ipython3",
   "version": "3.11.1"
  },
  "orig_nbformat": 4
 },
 "nbformat": 4,
 "nbformat_minor": 2
}
